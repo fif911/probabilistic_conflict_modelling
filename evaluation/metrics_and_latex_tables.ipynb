{
 "cells": [
  {
   "cell_type": "code",
   "execution_count": 3,
   "id": "initial_id",
   "metadata": {
    "ExecuteTime": {
     "end_time": "2024-06-01T10:01:41.548820Z",
     "start_time": "2024-06-01T10:01:41.546479Z"
    }
   },
   "outputs": [],
   "source": [
    "import os\n",
    "import pandas as pd\n",
    "\n",
    "# Evaluation scripts"
   ]
  },
  {
   "cell_type": "code",
   "execution_count": 4,
   "id": "b955599b-a6ec-4107-9ef0-49f7b0a0c035",
   "metadata": {},
   "outputs": [
    {
     "data": {
      "text/html": [
       "<div>\n",
       "<style scoped>\n",
       "    .dataframe tbody tr th:only-of-type {\n",
       "        vertical-align: middle;\n",
       "    }\n",
       "\n",
       "    .dataframe tbody tr th {\n",
       "        vertical-align: top;\n",
       "    }\n",
       "\n",
       "    .dataframe thead th {\n",
       "        text-align: right;\n",
       "    }\n",
       "</style>\n",
       "<table border=\"1\" class=\"dataframe\">\n",
       "  <thead>\n",
       "    <tr style=\"text-align: right;\">\n",
       "      <th></th>\n",
       "      <th></th>\n",
       "      <th></th>\n",
       "      <th>outcome</th>\n",
       "    </tr>\n",
       "    <tr>\n",
       "      <th>month_id</th>\n",
       "      <th>country_id</th>\n",
       "      <th>draw</th>\n",
       "      <th></th>\n",
       "    </tr>\n",
       "  </thead>\n",
       "  <tbody>\n",
       "    <tr>\n",
       "      <th rowspan=\"5\" valign=\"top\">517</th>\n",
       "      <th rowspan=\"5\" valign=\"top\">1</th>\n",
       "      <th>0</th>\n",
       "      <td>0</td>\n",
       "    </tr>\n",
       "    <tr>\n",
       "      <th>1</th>\n",
       "      <td>0</td>\n",
       "    </tr>\n",
       "    <tr>\n",
       "      <th>2</th>\n",
       "      <td>0</td>\n",
       "    </tr>\n",
       "    <tr>\n",
       "      <th>3</th>\n",
       "      <td>0</td>\n",
       "    </tr>\n",
       "    <tr>\n",
       "      <th>4</th>\n",
       "      <td>0</td>\n",
       "    </tr>\n",
       "    <tr>\n",
       "      <th>...</th>\n",
       "      <th>...</th>\n",
       "      <th>...</th>\n",
       "      <td>...</td>\n",
       "    </tr>\n",
       "    <tr>\n",
       "      <th rowspan=\"5\" valign=\"top\">528</th>\n",
       "      <th rowspan=\"5\" valign=\"top\">246</th>\n",
       "      <th>995</th>\n",
       "      <td>4</td>\n",
       "    </tr>\n",
       "    <tr>\n",
       "      <th>996</th>\n",
       "      <td>4</td>\n",
       "    </tr>\n",
       "    <tr>\n",
       "      <th>997</th>\n",
       "      <td>74</td>\n",
       "    </tr>\n",
       "    <tr>\n",
       "      <th>998</th>\n",
       "      <td>20</td>\n",
       "    </tr>\n",
       "    <tr>\n",
       "      <th>999</th>\n",
       "      <td>4</td>\n",
       "    </tr>\n",
       "  </tbody>\n",
       "</table>\n",
       "<p>2292000 rows × 1 columns</p>\n",
       "</div>"
      ],
      "text/plain": [
       "                          outcome\n",
       "month_id country_id draw         \n",
       "517      1          0           0\n",
       "                    1           0\n",
       "                    2           0\n",
       "                    3           0\n",
       "                    4           0\n",
       "...                           ...\n",
       "528      246        995         4\n",
       "                    996         4\n",
       "                    997        74\n",
       "                    998        20\n",
       "                    999         4\n",
       "\n",
       "[2292000 rows x 1 columns]"
      ]
     },
     "execution_count": 4,
     "metadata": {},
     "output_type": "execute_result"
    }
   ],
   "source": [
    "pd.read_parquet(\"../submission/ng_boost_cm_v2.4_pw_14_normal_d_20_n_300_s_crpscore_c_T_m_T_bsd_5_mbf_0.5_dli_0/cm/window=Y2023\")"
   ]
  },
  {
   "cell_type": "code",
   "execution_count": 1,
   "id": "447906c6948c8b9",
   "metadata": {
    "ExecuteTime": {
     "end_time": "2024-06-01T10:01:41.563895Z",
     "start_time": "2024-06-01T10:01:41.550026Z"
    }
   },
   "outputs": [],
   "source": [
    "def get_actuals(year):\n",
    "    df_cm_actuals_year = pd.read_parquet(f\"../actuals/cm/window=Y{year}/cm_actuals_{year}.parquet\")\n",
    "    # df_cm_actuals_year['ged_sb'] = df_cm_actuals_year['ged_sb'].astype('int32')\n",
    "    # df_cm_actuals_year.rename(columns={\"ged_sb\": \"outcome\"}, errors=\"raise\", inplace=True)\n",
    "    df_cm_actuals_year['year'] = year\n",
    "    # append month. each year has 12 months. iterate according to month_id\n",
    "    start_month = df_cm_actuals_year['month_id'].min()\n",
    "    mapping_month = {start_month + month_i: month_i for month_i in range(0, 12)}\n",
    "    df_cm_actuals_year['month'] = df_cm_actuals_year['month_id'].map(mapping_month)\n",
    "\n",
    "    return df_cm_actuals_year"
   ]
  },
  {
   "cell_type": "code",
   "execution_count": 2,
   "id": "89677048-085d-4b42-8d40-47eb0d17fce2",
   "metadata": {},
   "outputs": [
    {
     "ename": "NameError",
     "evalue": "name 'pd' is not defined",
     "output_type": "error",
     "traceback": [
      "\u001b[0;31m---------------------------------------------------------------------------\u001b[0m",
      "\u001b[0;31mNameError\u001b[0m                                 Traceback (most recent call last)",
      "Cell \u001b[0;32mIn[2], line 2\u001b[0m\n\u001b[1;32m      1\u001b[0m \u001b[38;5;28;01mtry\u001b[39;00m:\n\u001b[0;32m----> 2\u001b[0m     df_cm_actuals_2018 \u001b[38;5;241m=\u001b[39m \u001b[43mget_actuals\u001b[49m\u001b[43m(\u001b[49m\u001b[43myear\u001b[49m\u001b[38;5;241;43m=\u001b[39;49m\u001b[38;5;241;43m2018\u001b[39;49m\u001b[43m)\u001b[49m\n\u001b[1;32m      3\u001b[0m \u001b[38;5;28;01mexcept\u001b[39;00m \u001b[38;5;167;01mFileNotFoundError\u001b[39;00m:\n\u001b[1;32m      4\u001b[0m     \u001b[38;5;28mprint\u001b[39m(\u001b[38;5;124m'\u001b[39m\u001b[38;5;124mNo 2018 data\u001b[39m\u001b[38;5;124m'\u001b[39m)\n",
      "Cell \u001b[0;32mIn[1], line 2\u001b[0m, in \u001b[0;36mget_actuals\u001b[0;34m(year)\u001b[0m\n\u001b[1;32m      1\u001b[0m \u001b[38;5;28;01mdef\u001b[39;00m \u001b[38;5;21mget_actuals\u001b[39m(year):\n\u001b[0;32m----> 2\u001b[0m     df_cm_actuals_year \u001b[38;5;241m=\u001b[39m \u001b[43mpd\u001b[49m\u001b[38;5;241m.\u001b[39mread_parquet(\u001b[38;5;124mf\u001b[39m\u001b[38;5;124m\"\u001b[39m\u001b[38;5;124m../actuals/cm/window=Y\u001b[39m\u001b[38;5;132;01m{\u001b[39;00myear\u001b[38;5;132;01m}\u001b[39;00m\u001b[38;5;124m/cm_actuals_\u001b[39m\u001b[38;5;132;01m{\u001b[39;00myear\u001b[38;5;132;01m}\u001b[39;00m\u001b[38;5;124m.parquet\u001b[39m\u001b[38;5;124m\"\u001b[39m)\n\u001b[1;32m      3\u001b[0m     \u001b[38;5;66;03m# df_cm_actuals_year['ged_sb'] = df_cm_actuals_year['ged_sb'].astype('int32')\u001b[39;00m\n\u001b[1;32m      4\u001b[0m     \u001b[38;5;66;03m# df_cm_actuals_year.rename(columns={\"ged_sb\": \"outcome\"}, errors=\"raise\", inplace=True)\u001b[39;00m\n\u001b[1;32m      5\u001b[0m     df_cm_actuals_year[\u001b[38;5;124m'\u001b[39m\u001b[38;5;124myear\u001b[39m\u001b[38;5;124m'\u001b[39m] \u001b[38;5;241m=\u001b[39m year\n",
      "\u001b[0;31mNameError\u001b[0m: name 'pd' is not defined"
     ]
    }
   ],
   "source": [
    "try:\n",
    "    df_cm_actuals_2018 = get_actuals(year=2018)\n",
    "except FileNotFoundError:\n",
    "    print('No 2018 data')\n",
    "try:\n",
    "    df_cm_actuals_2019 = get_actuals(year=2019)\n",
    "except FileNotFoundError:\n",
    "    print('No 2019 data')\n",
    "try:\n",
    "    df_cm_actuals_2020 = get_actuals(year=2020)\n",
    "except FileNotFoundError:\n",
    "    print('No 2020 data')\n",
    "try:\n",
    "    df_cm_actuals_2021 = get_actuals(year=2021)\n",
    "except FileNotFoundError:\n",
    "    print('No 2021 data')\n",
    "try:\n",
    "    df_cm_actuals_2022 = get_actuals(year=2022)\n",
    "except FileNotFoundError:\n",
    "    print('No 2022 data')\n",
    "try:\n",
    "    df_cm_actuals_2022 = get_actuals(year=2023)\n",
    "except FileNotFoundError:\n",
    "    print('No 2023 data')\n",
    "get_actuals(year=2023)"
   ]
  },
  {
   "cell_type": "code",
   "execution_count": 35,
   "id": "8d3660227877592f",
   "metadata": {
    "ExecuteTime": {
     "end_time": "2024-06-01T10:01:41.669059Z",
     "start_time": "2024-06-01T10:01:41.576905Z"
    }
   },
   "outputs": [
    {
     "name": "stdout",
     "output_type": "stream",
     "text": [
      "File not found for benchmark_last_historical_poisson crps 2018\n",
      "File not found for benchmark_last_historical_poisson crps 2019\n",
      "File not found for benchmark_last_historical_poisson crps 2020\n",
      "File not found for benchmark_last_historical_poisson crps 2021\n",
      "File not found for benchmark_last_historical_poisson crps 2022\n"
     ]
    },
    {
     "ename": "ValueError",
     "evalue": "No objects to concatenate",
     "output_type": "error",
     "traceback": [
      "\u001b[0;31m---------------------------------------------------------------------------\u001b[0m",
      "\u001b[0;31mValueError\u001b[0m                                Traceback (most recent call last)",
      "Cell \u001b[0;32mIn[35], line 65\u001b[0m\n\u001b[1;32m     62\u001b[0m submission_metadata \u001b[38;5;241m=\u001b[39m {\u001b[38;5;124m'\u001b[39m\u001b[38;5;124mname\u001b[39m\u001b[38;5;124m'\u001b[39m: submission_to_concern}\n\u001b[1;32m     64\u001b[0m \u001b[38;5;66;03m# get CRPS metrics\u001b[39;00m\n\u001b[0;32m---> 65\u001b[0m crps_submission \u001b[38;5;241m=\u001b[39m \u001b[43mread_metric\u001b[49m\u001b[43m(\u001b[49m\u001b[43msubmission_to_concern\u001b[49m\u001b[43m,\u001b[49m\u001b[43m \u001b[49m\u001b[38;5;124;43m\"\u001b[39;49m\u001b[38;5;124;43mcrps\u001b[39;49m\u001b[38;5;124;43m\"\u001b[39;49m\u001b[43m)\u001b[49m\n\u001b[1;32m     66\u001b[0m submission_metadata[\u001b[38;5;124m'\u001b[39m\u001b[38;5;124mcrps_mean\u001b[39m\u001b[38;5;124m'\u001b[39m] \u001b[38;5;241m=\u001b[39m metric_mean(crps_submission, \u001b[38;5;124m\"\u001b[39m\u001b[38;5;124mcrps\u001b[39m\u001b[38;5;124m\"\u001b[39m)\n\u001b[1;32m     67\u001b[0m submission_metadata[\u001b[38;5;124m'\u001b[39m\u001b[38;5;124mcrps_mean_year\u001b[39m\u001b[38;5;124m'\u001b[39m] \u001b[38;5;241m=\u001b[39m metric_mean(crps_submission, \u001b[38;5;124m\"\u001b[39m\u001b[38;5;124mcrps\u001b[39m\u001b[38;5;124m\"\u001b[39m, per_year\u001b[38;5;241m=\u001b[39m\u001b[38;5;28;01mTrue\u001b[39;00m)\n",
      "Cell \u001b[0;32mIn[35], line 21\u001b[0m, in \u001b[0;36mread_metric\u001b[0;34m(submisson, metric)\u001b[0m\n\u001b[1;32m     19\u001b[0m     metric_all_years\u001b[38;5;241m.\u001b[39mappend(df)\n\u001b[1;32m     20\u001b[0m \u001b[38;5;66;03m# concat all years\u001b[39;00m\n\u001b[0;32m---> 21\u001b[0m df_metric_all_years \u001b[38;5;241m=\u001b[39m \u001b[43mpd\u001b[49m\u001b[38;5;241;43m.\u001b[39;49m\u001b[43mconcat\u001b[49m\u001b[43m(\u001b[49m\u001b[43mmetric_all_years\u001b[49m\u001b[43m)\u001b[49m\n\u001b[1;32m     22\u001b[0m df_metric_all_years\u001b[38;5;241m.\u001b[39mreset_index()\n\u001b[1;32m     23\u001b[0m \u001b[38;5;28;01mreturn\u001b[39;00m df_metric_all_years\n",
      "File \u001b[0;32m~/A/forecast/venv/lib64/python3.10/site-packages/pandas/core/reshape/concat.py:382\u001b[0m, in \u001b[0;36mconcat\u001b[0;34m(objs, axis, join, ignore_index, keys, levels, names, verify_integrity, sort, copy)\u001b[0m\n\u001b[1;32m    379\u001b[0m \u001b[38;5;28;01melif\u001b[39;00m copy \u001b[38;5;129;01mand\u001b[39;00m using_copy_on_write():\n\u001b[1;32m    380\u001b[0m     copy \u001b[38;5;241m=\u001b[39m \u001b[38;5;28;01mFalse\u001b[39;00m\n\u001b[0;32m--> 382\u001b[0m op \u001b[38;5;241m=\u001b[39m \u001b[43m_Concatenator\u001b[49m\u001b[43m(\u001b[49m\n\u001b[1;32m    383\u001b[0m \u001b[43m    \u001b[49m\u001b[43mobjs\u001b[49m\u001b[43m,\u001b[49m\n\u001b[1;32m    384\u001b[0m \u001b[43m    \u001b[49m\u001b[43maxis\u001b[49m\u001b[38;5;241;43m=\u001b[39;49m\u001b[43maxis\u001b[49m\u001b[43m,\u001b[49m\n\u001b[1;32m    385\u001b[0m \u001b[43m    \u001b[49m\u001b[43mignore_index\u001b[49m\u001b[38;5;241;43m=\u001b[39;49m\u001b[43mignore_index\u001b[49m\u001b[43m,\u001b[49m\n\u001b[1;32m    386\u001b[0m \u001b[43m    \u001b[49m\u001b[43mjoin\u001b[49m\u001b[38;5;241;43m=\u001b[39;49m\u001b[43mjoin\u001b[49m\u001b[43m,\u001b[49m\n\u001b[1;32m    387\u001b[0m \u001b[43m    \u001b[49m\u001b[43mkeys\u001b[49m\u001b[38;5;241;43m=\u001b[39;49m\u001b[43mkeys\u001b[49m\u001b[43m,\u001b[49m\n\u001b[1;32m    388\u001b[0m \u001b[43m    \u001b[49m\u001b[43mlevels\u001b[49m\u001b[38;5;241;43m=\u001b[39;49m\u001b[43mlevels\u001b[49m\u001b[43m,\u001b[49m\n\u001b[1;32m    389\u001b[0m \u001b[43m    \u001b[49m\u001b[43mnames\u001b[49m\u001b[38;5;241;43m=\u001b[39;49m\u001b[43mnames\u001b[49m\u001b[43m,\u001b[49m\n\u001b[1;32m    390\u001b[0m \u001b[43m    \u001b[49m\u001b[43mverify_integrity\u001b[49m\u001b[38;5;241;43m=\u001b[39;49m\u001b[43mverify_integrity\u001b[49m\u001b[43m,\u001b[49m\n\u001b[1;32m    391\u001b[0m \u001b[43m    \u001b[49m\u001b[43mcopy\u001b[49m\u001b[38;5;241;43m=\u001b[39;49m\u001b[43mcopy\u001b[49m\u001b[43m,\u001b[49m\n\u001b[1;32m    392\u001b[0m \u001b[43m    \u001b[49m\u001b[43msort\u001b[49m\u001b[38;5;241;43m=\u001b[39;49m\u001b[43msort\u001b[49m\u001b[43m,\u001b[49m\n\u001b[1;32m    393\u001b[0m \u001b[43m\u001b[49m\u001b[43m)\u001b[49m\n\u001b[1;32m    395\u001b[0m \u001b[38;5;28;01mreturn\u001b[39;00m op\u001b[38;5;241m.\u001b[39mget_result()\n",
      "File \u001b[0;32m~/A/forecast/venv/lib64/python3.10/site-packages/pandas/core/reshape/concat.py:445\u001b[0m, in \u001b[0;36m_Concatenator.__init__\u001b[0;34m(self, objs, axis, join, keys, levels, names, ignore_index, verify_integrity, copy, sort)\u001b[0m\n\u001b[1;32m    442\u001b[0m \u001b[38;5;28mself\u001b[39m\u001b[38;5;241m.\u001b[39mverify_integrity \u001b[38;5;241m=\u001b[39m verify_integrity\n\u001b[1;32m    443\u001b[0m \u001b[38;5;28mself\u001b[39m\u001b[38;5;241m.\u001b[39mcopy \u001b[38;5;241m=\u001b[39m copy\n\u001b[0;32m--> 445\u001b[0m objs, keys \u001b[38;5;241m=\u001b[39m \u001b[38;5;28;43mself\u001b[39;49m\u001b[38;5;241;43m.\u001b[39;49m\u001b[43m_clean_keys_and_objs\u001b[49m\u001b[43m(\u001b[49m\u001b[43mobjs\u001b[49m\u001b[43m,\u001b[49m\u001b[43m \u001b[49m\u001b[43mkeys\u001b[49m\u001b[43m)\u001b[49m\n\u001b[1;32m    447\u001b[0m \u001b[38;5;66;03m# figure out what our result ndim is going to be\u001b[39;00m\n\u001b[1;32m    448\u001b[0m ndims \u001b[38;5;241m=\u001b[39m \u001b[38;5;28mself\u001b[39m\u001b[38;5;241m.\u001b[39m_get_ndims(objs)\n",
      "File \u001b[0;32m~/A/forecast/venv/lib64/python3.10/site-packages/pandas/core/reshape/concat.py:507\u001b[0m, in \u001b[0;36m_Concatenator._clean_keys_and_objs\u001b[0;34m(self, objs, keys)\u001b[0m\n\u001b[1;32m    504\u001b[0m     objs_list \u001b[38;5;241m=\u001b[39m \u001b[38;5;28mlist\u001b[39m(objs)\n\u001b[1;32m    506\u001b[0m \u001b[38;5;28;01mif\u001b[39;00m \u001b[38;5;28mlen\u001b[39m(objs_list) \u001b[38;5;241m==\u001b[39m \u001b[38;5;241m0\u001b[39m:\n\u001b[0;32m--> 507\u001b[0m     \u001b[38;5;28;01mraise\u001b[39;00m \u001b[38;5;167;01mValueError\u001b[39;00m(\u001b[38;5;124m\"\u001b[39m\u001b[38;5;124mNo objects to concatenate\u001b[39m\u001b[38;5;124m\"\u001b[39m)\n\u001b[1;32m    509\u001b[0m \u001b[38;5;28;01mif\u001b[39;00m keys \u001b[38;5;129;01mis\u001b[39;00m \u001b[38;5;28;01mNone\u001b[39;00m:\n\u001b[1;32m    510\u001b[0m     objs_list \u001b[38;5;241m=\u001b[39m \u001b[38;5;28mlist\u001b[39m(com\u001b[38;5;241m.\u001b[39mnot_none(\u001b[38;5;241m*\u001b[39mobjs_list))\n",
      "\u001b[0;31mValueError\u001b[0m: No objects to concatenate"
     ]
    }
   ],
   "source": [
    "# submission/benchmark_last_historical_poisson\n",
    "submissions_to_concern = [\"benchmark_last_historical_poisson\", \"benchmark_boostrap\",\n",
    "                          \"ng_boost_cm_v1.0_pw_14_normal_d_20_n_300_s_crpscore_c_T_m_T_bsd_5_mbf_0.5\"]\n",
    "\n",
    "\n",
    "def read_metric(submisson, metric):\n",
    "    metric_all_years = []\n",
    "    for y in range(2018, 2023):\n",
    "        try:\n",
    "            # submission/benchmark_last_historical_poisson/eval/cm/window=Y2018/metric=crps/crps.csv\n",
    "            df = pd.read_csv(f\"submission/{submisson}/eval/cm/window=Y{y}/metric={metric}/{metric}.csv\")\n",
    "        except FileNotFoundError:\n",
    "            print(f\"File not found for {submisson} {metric} {y}\")\n",
    "            continue\n",
    "        df['year'] = y\n",
    "        start_month = df['month_id'].min()\n",
    "        mapping_month = {start_month + month_i: month_i for month_i in range(0, 12)}\n",
    "        df['month'] = df['month_id'].map(mapping_month) + 1\n",
    "        metric_all_years.append(df)\n",
    "    # concat all years\n",
    "    df_metric_all_years = pd.concat(metric_all_years)\n",
    "    df_metric_all_years.reset_index()\n",
    "    return df_metric_all_years\n",
    "\n",
    "\n",
    "def metric_per_month(df_metric, metric, include_2022=False):\n",
    "    if not include_2022:\n",
    "        df_metric = df_metric[df_metric['year'] != 2022]\n",
    "    res = df_metric.groupby(['month'])['value'].mean().reset_index().set_index('month')\n",
    "    res.rename(columns={\"value\": metric}, inplace=True)\n",
    "    return res\n",
    "\n",
    "\n",
    "def metric_per_month_for_2022(df_metric, metric):\n",
    "    df_metric = df_metric[df_metric['year'] == 2022]\n",
    "    if df_metric.empty:\n",
    "        return \"N/A\"\n",
    "    res = df_metric.groupby(['month'])['value'].mean().reset_index().set_index('month')\n",
    "    res.rename(columns={\"value\": metric}, inplace=True)\n",
    "    return res\n",
    "\n",
    "\n",
    "def metric_per_country(df_metric, metric, include_2022=False):\n",
    "    res = df_metric.groupby(['country_id'])['value'].mean().reset_index().set_index('country_id')\n",
    "    res.rename(columns={\"value\": metric}, inplace=True)\n",
    "    return res\n",
    "\n",
    "\n",
    "def metric_mean(df_metric, metric, per_year=False, include_2022=False):\n",
    "    \"\"\"return mean all years\"\"\"\n",
    "    if per_year:\n",
    "        res = df_metric.groupby(['year'])['value'].mean().reset_index().set_index('year')\n",
    "        res.rename(columns={\"value\": metric}, inplace=True)\n",
    "        return res\n",
    "    else:\n",
    "        return df_metric['value'].mean()\n",
    "\n",
    "\n",
    "submissions_metrics = []\n",
    "\n",
    "for submission_to_concern in submissions_to_concern:\n",
    "    submission_metadata = {'name': submission_to_concern}\n",
    "\n",
    "    # get CRPS metrics\n",
    "    crps_submission = read_metric(submission_to_concern, \"crps\")\n",
    "    submission_metadata['crps_mean'] = metric_mean(crps_submission, \"crps\")\n",
    "    submission_metadata['crps_mean_year'] = metric_mean(crps_submission, \"crps\", per_year=True)\n",
    "    submission_metadata['crps_per_month'] = metric_per_month(crps_submission, \"crps\", )\n",
    "    submission_metadata['crps_per_month_2022'] = metric_per_month_for_2022(crps_submission, \"crps\")\n",
    "    submission_metadata['crps_per_country'] = metric_per_country(crps_submission, \"crps\")\n",
    "\n",
    "    ign_submission = read_metric(submission_to_concern, \"ign\")\n",
    "    submission_metadata['ign_mean'] = metric_mean(ign_submission, \"ign\")\n",
    "    submission_metadata['ign_mean_year'] = metric_mean(ign_submission, \"ign\", per_year=True)\n",
    "    submission_metadata['ign_per_month'] = metric_per_month(ign_submission, \"ign\")\n",
    "    submission_metadata['ign_per_month_2022'] = metric_per_month_for_2022(ign_submission, \"ign\")\n",
    "    submission_metadata['ign_per_country'] = metric_per_country(ign_submission, \"ign\")\n",
    "\n",
    "    mis_submission = read_metric(submission_to_concern, \"mis\")\n",
    "    submission_metadata['mis_mean'] = metric_mean(mis_submission, \"mis\")\n",
    "    submission_metadata['mis_mean_year'] = metric_mean(mis_submission, \"mis\", per_year=True)\n",
    "    submission_metadata['mis_per_month'] = metric_per_month(mis_submission, \"mis\")\n",
    "    submission_metadata['mis_per_month_2022'] = metric_per_month_for_2022(mis_submission, \"mis\")\n",
    "    submission_metadata['mis_per_country'] = metric_per_country(mis_submission, \"mis\")\n",
    "\n",
    "    submissions_metrics.append(submission_metadata)\n",
    "    print(submission_metadata['crps_mean'], submission_metadata['ign_mean'], submission_metadata['mis_mean'])\n",
    "\n",
    "submission_metadata['mis_mean_year']"
   ]
  },
  {
   "cell_type": "markdown",
   "id": "ac7e0bbab363e783",
   "metadata": {},
   "source": [
    "# Assembling evaluation tables"
   ]
  },
  {
   "cell_type": "code",
   "execution_count": 31,
   "id": "d0eba2c8194d8551",
   "metadata": {
    "ExecuteTime": {
     "end_time": "2024-06-01T10:02:06.072551Z",
     "start_time": "2024-06-01T10:02:06.052021Z"
    }
   },
   "outputs": [
    {
     "name": "stdout",
     "output_type": "stream",
     "text": [
      "benchmark_last_historical_poisson overleaf_tables/benchmark_last_historical_poisson_yearly.tex\n",
      "benchmark_boostrap overleaf_tables/benchmark_boostrap_yearly.tex\n",
      "ng_boost_cm_v1.0_pw_14_normal_d_20_n_300_s_crpscore_c_T_m_T_bsd_5_mbf_0.5 overleaf_tables/ng_boost_cm_v1.0_pw_14_normal_d_20_n_300_s_crpscore_c_T_m_T_bsd_5_mbf_0.5_yearly.tex\n",
      "benchmark_last_historical_poisson overleaf_tables/benchmark_last_historical_poisson_monthly.tex\n",
      "benchmark_boostrap overleaf_tables/benchmark_boostrap_monthly.tex\n",
      "ng_boost_cm_v1.0_pw_14_normal_d_20_n_300_s_crpscore_c_T_m_T_bsd_5_mbf_0.5 overleaf_tables/ng_boost_cm_v1.0_pw_14_normal_d_20_n_300_s_crpscore_c_T_m_T_bsd_5_mbf_0.5_monthly.tex\n",
      "ng_boost_cm_v1.0_pw_14_normal_d_20_n_300_s_crpscore_c_T_m_T_bsd_5_mbf_0.5 overleaf_tables/ng_boost_cm_v1.0_pw_14_normal_d_20_n_300_s_crpscore_c_T_m_T_bsd_5_mbf_0.5_monthly_2022.tex\n"
     ]
    }
   ],
   "source": [
    "# Create table A for each model with:\n",
    "# one row for each year plus one for mean over years\n",
    "# one col for crps \n",
    "# one col for ign \n",
    "# one col for mis\n",
    "# Create table B with the same, but metrics per month\n",
    "\n",
    "overleafpath = \"overleaf_tables/\"\n",
    "if not os.path.exists(overleafpath):\n",
    "    os.makedirs(overleafpath)\n",
    "\n",
    "# Table A:\n",
    "for submission_metrics in submissions_metrics:\n",
    "    generate_2022_table = False\n",
    "    if submission_metrics['name'] == submissions_to_concern[2]:\n",
    "        generate_2022_table = True\n",
    "    table_per_year = pd.concat([submission_metrics['crps_mean_year'], submission_metrics['ign_mean_year'],\n",
    "                                submission_metrics['mis_mean_year']], axis=1)\n",
    "    table_per_year.loc['Mean 2018-2021'] = table_per_year[0:3].mean()\n",
    "\n",
    "    if generate_2022_table:\n",
    "        table_per_year.loc['Mean 2018-2022'] = table_per_year.mean()\n",
    "    else:\n",
    "        table_per_year.loc['Mean 2018-2022'] = \"N/A\"\n",
    "\n",
    "    table_filename = overleafpath + submission_metrics['name'] + '_yearly' + '.tex'\n",
    "    print(submission_metrics['name'], table_filename)\n",
    "    with open(table_filename, 'w') as tf:\n",
    "        tf.write(table_per_year.to_latex(float_format=\"{:.2f}\".format))\n",
    "\n",
    "# Table B:\n",
    "for submission_metrics in submissions_metrics:\n",
    "    table_monthly = pd.concat([submission_metrics['crps_per_month'], submission_metrics['ign_per_month'],\n",
    "                               submission_metrics['mis_per_month']], axis=1)\n",
    "    # table_monthly.loc['Mean'] = table_monthly.mean()\n",
    "    table_filename = overleafpath + submission_metrics['name'] + '_monthly' + '.tex'\n",
    "    print(submission_metrics['name'], table_filename)\n",
    "    with open(table_filename, 'w') as tf:\n",
    "        tf.write(table_monthly.to_latex(float_format=\"{:.2f}\".format))\n",
    "\n",
    "# Table B for 2022 only\n",
    "submissions_supports_2022 = [submissions_metrics[2], ]\n",
    "for submission_metrics in submissions_supports_2022:\n",
    "    table_monthly = pd.concat([submission_metrics['crps_per_month_2022'],\n",
    "                               submission_metrics['ign_per_month_2022'],\n",
    "                               submission_metrics['mis_per_month_2022']], axis=1)\n",
    "    table_monthly.loc['Mean'] = table_monthly.mean()\n",
    "    table_filename = overleafpath + submission_metrics['name'] + '_monthly_2022' + '.tex'\n",
    "    print(submission_metrics['name'], table_filename)\n",
    "    with open(table_filename, 'w') as tf:\n",
    "        tf.write(table_monthly.to_latex(float_format=\"{:.2f}\".format))\n",
    "\n"
   ]
  },
  {
   "cell_type": "code",
   "execution_count": null,
   "id": "35dea4e788fea18c",
   "metadata": {
    "ExecuteTime": {
     "end_time": "2024-06-01T10:01:41.703095Z",
     "start_time": "2024-06-01T10:01:41.702888Z"
    }
   },
   "outputs": [],
   "source": [
    "table_per_year"
   ]
  },
  {
   "cell_type": "code",
   "execution_count": null,
   "id": "99134fc296510493",
   "metadata": {},
   "outputs": [],
   "source": [
    "table_monthly"
   ]
  },
  {
   "cell_type": "code",
   "execution_count": null,
   "id": "87d3e7ffb76684a7",
   "metadata": {},
   "outputs": [],
   "source": []
  }
 ],
 "metadata": {
  "kernelspec": {
   "display_name": "Python 3 (ipykernel)",
   "language": "python",
   "name": "python3"
  },
  "language_info": {
   "codemirror_mode": {
    "name": "ipython",
    "version": 3
   },
   "file_extension": ".py",
   "mimetype": "text/x-python",
   "name": "python",
   "nbconvert_exporter": "python",
   "pygments_lexer": "ipython3",
   "version": "3.10.14"
  }
 },
 "nbformat": 4,
 "nbformat_minor": 5
}
