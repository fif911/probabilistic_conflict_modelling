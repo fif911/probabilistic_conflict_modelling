{
 "cells": [
  {
   "cell_type": "code",
   "id": "initial_id",
   "metadata": {
    "collapsed": true,
    "ExecuteTime": {
     "end_time": "2024-07-30T08:27:45.823164Z",
     "start_time": "2024-07-30T08:27:45.817131Z"
    }
   },
   "source": [
    "# import pandas as pd\n",
    "# cm_features_v4 = pd.read_csv(f'data/cm_features_v0.4.csv')\n",
    "# cm_features_v5 = pd.read_csv(f'data/cm_features_v0.5.csv')\n",
    "# cm_features_v6 = pd.read_csv(f'data/cm_features_v0.6.csv')\n",
    "# print(cm_features_v4.shape)\n",
    "# print(cm_features_v5.shape)\n",
    "# print(cm_features_v6.shape)"
   ],
   "outputs": [],
   "execution_count": 4
  },
  {
   "metadata": {
    "ExecuteTime": {
     "end_time": "2024-07-30T08:27:45.845031Z",
     "start_time": "2024-07-30T08:27:45.825116Z"
    }
   },
   "cell_type": "code",
   "source": [
    "import os\n",
    "import glob\n",
    "import pandas as pd\n",
    "import matplotlib.pyplot as plt\n",
    "\n",
    "# Path to the submission folder\n",
    "base_path = \"../submission\"\n",
    "\n",
    "# List of metrics\n",
    "metrics = ['crps', 'ign', 'mis']\n",
    "\n",
    "# Dictionary to hold all data\n",
    "all_data = {}\n",
    "\n",
    "# Process each metric\n",
    "for metric in metrics:\n",
    "    # Find all CSV files within the nested directories for each metric\n",
    "    submission_files = glob.glob(f\"{base_path}/**/{metric}.csv\", recursive=True)\n",
    "\n",
    "    # Dictionary to hold the dataframes grouped by submission name and year\n",
    "    submissions = {}\n",
    "\n",
    "    # Read each CSV file and store the dataframe in the dictionary grouped by submission name and year\n",
    "    for file in submission_files:\n",
    "        df = pd.read_csv(file)\n",
    "        parts = file.split('/')\n",
    "        submission_name = parts[2].replace('_', ' ').title()  # Adjust index based on your file path structure\n",
    "        year = parts[5].split('=')[1]  # Extract year from the 'window=YYear' part\n",
    "        if submission_name not in submissions:\n",
    "            submissions[submission_name] = {}\n",
    "        if year not in submissions[submission_name]:\n",
    "            submissions[submission_name][year] = []\n",
    "        submissions[submission_name][year].append(df['value'].mean())  # Store mean values\n",
    "\n",
    "    # Merge the metric means into the all_data dictionary\n",
    "    for submission_name, years_data in submissions.items():\n",
    "        if submission_name not in all_data:\n",
    "            all_data[submission_name] = {}\n",
    "        for year, mean_values in years_data.items():\n",
    "            if year not in all_data[submission_name]:\n",
    "                all_data[submission_name][year] = {}\n",
    "            all_data[submission_name][year][metric] = mean_values[0]  # There should be exactly one mean per metric\n",
    "\n",
    "# Convert all_data to DataFrame\n",
    "data_frames = {}\n",
    "for submission, years_data in all_data.items():\n",
    "    for year, metrics_data in years_data.items():\n",
    "        index = (submission, year)\n",
    "        data_frames[index] = metrics_data\n",
    "\n",
    "# Create a multi-index DataFrame\n",
    "result_df = pd.DataFrame.from_dict(data_frames, orient='index')\n",
    "result_df.index = pd.MultiIndex.from_tuples(result_df.index, names=['Submission', 'Year'])\n",
    "\n",
    "# Display the DataFrame\n",
    "# result_df"
   ],
   "id": "b5d877b6311386d2",
   "outputs": [],
   "execution_count": 5
  },
  {
   "metadata": {
    "ExecuteTime": {
     "end_time": "2024-07-30T08:29:07.271916Z",
     "start_time": "2024-07-30T08:29:07.270126Z"
    }
   },
   "cell_type": "code",
   "source": [
    "# You may need to comment this out if you have only one year, as otherwise KeyError for non-existing year is thrown\n",
    "submissions_2018 = result_df.xs('Y2018', level='Year').sort_values(by='crps')\n",
    "submissions_2018"
   ],
   "id": "fd544e67facfb486",
   "outputs": [],
   "execution_count": 16
  },
  {
   "metadata": {
    "ExecuteTime": {
     "end_time": "2024-07-30T08:27:45.851146Z",
     "start_time": "2024-07-30T08:27:45.849550Z"
    }
   },
   "cell_type": "code",
   "source": [
    "submissions_2019 = result_df.xs('Y2019', level='Year').sort_values(by='crps')\n",
    "submissions_2019"
   ],
   "id": "360a91c57f0df011",
   "outputs": [],
   "execution_count": 7
  },
  {
   "metadata": {
    "ExecuteTime": {
     "end_time": "2024-07-30T08:27:45.853272Z",
     "start_time": "2024-07-30T08:27:45.851934Z"
    }
   },
   "cell_type": "code",
   "source": [
    "submissions_2020 = result_df.xs('Y2020', level='Year').sort_values(by='crps')\n",
    "submissions_2020"
   ],
   "id": "380fa55a3ff207ca",
   "outputs": [],
   "execution_count": 8
  },
  {
   "metadata": {},
   "cell_type": "code",
   "source": [
    "submissions_2021 = result_df.xs('Y2021', level='Year').sort_values(by='crps')\n",
    "submissions_2021"
   ],
   "id": "ff6722ab8bd0accc",
   "outputs": [],
   "execution_count": 9
  },
  {
   "metadata": {
    "ExecuteTime": {
     "end_time": "2024-07-30T08:27:45.869597Z",
     "start_time": "2024-07-30T08:27:45.855902Z"
    }
   },
   "cell_type": "code",
   "source": [
    "submissions_2022 = result_df.xs('Y2022', level='Year').sort_values(by='crps')\n",
    "submissions_2022"
   ],
   "id": "337f7b5a8a25e11b",
   "outputs": [
    {
     "data": {
      "text/plain": [
       "                                                          crps       ign  \\\n",
       "Submission                                                                 \n",
       "Ng Boost Cm V2.4 Pw 14 Normal D 20 N 300 S Crps...  119.327226  1.010515   \n",
       "\n",
       "                                                            mis  \n",
       "Submission                                                       \n",
       "Ng Boost Cm V2.4 Pw 14 Normal D 20 N 300 S Crps...  2266.055432  "
      ],
      "text/html": [
       "<div>\n",
       "<style scoped>\n",
       "    .dataframe tbody tr th:only-of-type {\n",
       "        vertical-align: middle;\n",
       "    }\n",
       "\n",
       "    .dataframe tbody tr th {\n",
       "        vertical-align: top;\n",
       "    }\n",
       "\n",
       "    .dataframe thead th {\n",
       "        text-align: right;\n",
       "    }\n",
       "</style>\n",
       "<table border=\"1\" class=\"dataframe\">\n",
       "  <thead>\n",
       "    <tr style=\"text-align: right;\">\n",
       "      <th></th>\n",
       "      <th>crps</th>\n",
       "      <th>ign</th>\n",
       "      <th>mis</th>\n",
       "    </tr>\n",
       "    <tr>\n",
       "      <th>Submission</th>\n",
       "      <th></th>\n",
       "      <th></th>\n",
       "      <th></th>\n",
       "    </tr>\n",
       "  </thead>\n",
       "  <tbody>\n",
       "    <tr>\n",
       "      <th>Ng Boost Cm V2.4 Pw 14 Normal D 20 N 300 S Crpscore C T M T Bsd 5 Mbf 0.5 Dli 0</th>\n",
       "      <td>119.327226</td>\n",
       "      <td>1.010515</td>\n",
       "      <td>2266.055432</td>\n",
       "    </tr>\n",
       "  </tbody>\n",
       "</table>\n",
       "</div>"
      ]
     },
     "execution_count": 10,
     "metadata": {},
     "output_type": "execute_result"
    }
   ],
   "execution_count": 10
  },
  {
   "metadata": {
    "ExecuteTime": {
     "end_time": "2024-07-30T08:27:45.875302Z",
     "start_time": "2024-07-30T08:27:45.870644Z"
    }
   },
   "cell_type": "code",
   "source": [
    "# find submissions that span over all 5 years\n",
    "submissions_all_years = result_df.groupby('Submission').count()\n",
    "submissions_all_years"
   ],
   "id": "6462ff420dfcfa3e",
   "outputs": [
    {
     "data": {
      "text/plain": [
       "                                                    crps  ign  mis\n",
       "Submission                                                        \n",
       "Ng Boost Cm V2.4 Pw 14 Normal D 20 N 300 S Crps...     1    1    1"
      ],
      "text/html": [
       "<div>\n",
       "<style scoped>\n",
       "    .dataframe tbody tr th:only-of-type {\n",
       "        vertical-align: middle;\n",
       "    }\n",
       "\n",
       "    .dataframe tbody tr th {\n",
       "        vertical-align: top;\n",
       "    }\n",
       "\n",
       "    .dataframe thead th {\n",
       "        text-align: right;\n",
       "    }\n",
       "</style>\n",
       "<table border=\"1\" class=\"dataframe\">\n",
       "  <thead>\n",
       "    <tr style=\"text-align: right;\">\n",
       "      <th></th>\n",
       "      <th>crps</th>\n",
       "      <th>ign</th>\n",
       "      <th>mis</th>\n",
       "    </tr>\n",
       "    <tr>\n",
       "      <th>Submission</th>\n",
       "      <th></th>\n",
       "      <th></th>\n",
       "      <th></th>\n",
       "    </tr>\n",
       "  </thead>\n",
       "  <tbody>\n",
       "    <tr>\n",
       "      <th>Ng Boost Cm V2.4 Pw 14 Normal D 20 N 300 S Crpscore C T M T Bsd 5 Mbf 0.5 Dli 0</th>\n",
       "      <td>1</td>\n",
       "      <td>1</td>\n",
       "      <td>1</td>\n",
       "    </tr>\n",
       "  </tbody>\n",
       "</table>\n",
       "</div>"
      ]
     },
     "execution_count": 11,
     "metadata": {},
     "output_type": "execute_result"
    }
   ],
   "execution_count": 11
  },
  {
   "metadata": {
    "ExecuteTime": {
     "end_time": "2024-07-30T08:27:45.887051Z",
     "start_time": "2024-07-30T08:27:45.877522Z"
    }
   },
   "cell_type": "code",
   "source": [
    "submissions_all_years = submissions_all_years[submissions_all_years['crps'] == 5]\n",
    "# calculate average crps, ign, mis over all years\n",
    "submissions_all_years['crps_avg'] = result_df.groupby('Submission')['crps'].mean()\n",
    "submissions_all_years['ign_avg'] = result_df.groupby('Submission')['ign'].mean()\n",
    "submissions_all_years['mis_avg'] = result_df.groupby('Submission')['mis'].mean()\n",
    "submissions_all_years = submissions_all_years.sort_values(by='crps_avg')\n",
    "submissions_all_years\n"
   ],
   "id": "d760c645cb08c9da",
   "outputs": [
    {
     "name": "stderr",
     "output_type": "stream",
     "text": [
      "/var/folders/88/v5lhf14x1r5bv01kg4dwr5780000gn/T/ipykernel_67753/1267863258.py:3: SettingWithCopyWarning: \n",
      "A value is trying to be set on a copy of a slice from a DataFrame.\n",
      "Try using .loc[row_indexer,col_indexer] = value instead\n",
      "\n",
      "See the caveats in the documentation: https://pandas.pydata.org/pandas-docs/stable/user_guide/indexing.html#returning-a-view-versus-a-copy\n",
      "  submissions_all_years['crps_avg'] = result_df.groupby('Submission')['crps'].mean()\n",
      "/var/folders/88/v5lhf14x1r5bv01kg4dwr5780000gn/T/ipykernel_67753/1267863258.py:4: SettingWithCopyWarning: \n",
      "A value is trying to be set on a copy of a slice from a DataFrame.\n",
      "Try using .loc[row_indexer,col_indexer] = value instead\n",
      "\n",
      "See the caveats in the documentation: https://pandas.pydata.org/pandas-docs/stable/user_guide/indexing.html#returning-a-view-versus-a-copy\n",
      "  submissions_all_years['ign_avg'] = result_df.groupby('Submission')['ign'].mean()\n",
      "/var/folders/88/v5lhf14x1r5bv01kg4dwr5780000gn/T/ipykernel_67753/1267863258.py:5: SettingWithCopyWarning: \n",
      "A value is trying to be set on a copy of a slice from a DataFrame.\n",
      "Try using .loc[row_indexer,col_indexer] = value instead\n",
      "\n",
      "See the caveats in the documentation: https://pandas.pydata.org/pandas-docs/stable/user_guide/indexing.html#returning-a-view-versus-a-copy\n",
      "  submissions_all_years['mis_avg'] = result_df.groupby('Submission')['mis'].mean()\n"
     ]
    },
    {
     "data": {
      "text/plain": [
       "                                                    crps  ign  mis  \\\n",
       "Submission                                                           \n",
       "Ng Boost Cm V2.4 Pw 14 Normal D 20 N 300 S Crps...   NaN  NaN  NaN   \n",
       "\n",
       "                                                      crps_avg   ign_avg  \\\n",
       "Submission                                                                 \n",
       "Ng Boost Cm V2.4 Pw 14 Normal D 20 N 300 S Crps...  119.327226  1.010515   \n",
       "\n",
       "                                                        mis_avg  \n",
       "Submission                                                       \n",
       "Ng Boost Cm V2.4 Pw 14 Normal D 20 N 300 S Crps...  2266.055432  "
      ],
      "text/html": [
       "<div>\n",
       "<style scoped>\n",
       "    .dataframe tbody tr th:only-of-type {\n",
       "        vertical-align: middle;\n",
       "    }\n",
       "\n",
       "    .dataframe tbody tr th {\n",
       "        vertical-align: top;\n",
       "    }\n",
       "\n",
       "    .dataframe thead th {\n",
       "        text-align: right;\n",
       "    }\n",
       "</style>\n",
       "<table border=\"1\" class=\"dataframe\">\n",
       "  <thead>\n",
       "    <tr style=\"text-align: right;\">\n",
       "      <th></th>\n",
       "      <th>crps</th>\n",
       "      <th>ign</th>\n",
       "      <th>mis</th>\n",
       "      <th>crps_avg</th>\n",
       "      <th>ign_avg</th>\n",
       "      <th>mis_avg</th>\n",
       "    </tr>\n",
       "    <tr>\n",
       "      <th>Submission</th>\n",
       "      <th></th>\n",
       "      <th></th>\n",
       "      <th></th>\n",
       "      <th></th>\n",
       "      <th></th>\n",
       "      <th></th>\n",
       "    </tr>\n",
       "  </thead>\n",
       "  <tbody>\n",
       "    <tr>\n",
       "      <th>Ng Boost Cm V2.4 Pw 14 Normal D 20 N 300 S Crpscore C T M T Bsd 5 Mbf 0.5 Dli 0</th>\n",
       "      <td>NaN</td>\n",
       "      <td>NaN</td>\n",
       "      <td>NaN</td>\n",
       "      <td>119.327226</td>\n",
       "      <td>1.010515</td>\n",
       "      <td>2266.055432</td>\n",
       "    </tr>\n",
       "  </tbody>\n",
       "</table>\n",
       "</div>"
      ]
     },
     "execution_count": 12,
     "metadata": {},
     "output_type": "execute_result"
    }
   ],
   "execution_count": 12
  },
  {
   "metadata": {
    "ExecuteTime": {
     "end_time": "2024-07-30T08:27:45.893197Z",
     "start_time": "2024-07-30T08:27:45.887953Z"
    }
   },
   "cell_type": "code",
   "source": [
    "PLOT_FIGURES = False\n",
    "if PLOT_FIGURES:\n",
    "\n",
    "    import os\n",
    "    import glob\n",
    "    import pandas as pd\n",
    "    import matplotlib.pyplot as plt\n",
    "\n",
    "    # Path to the submission folder\n",
    "    base_path = \"../submission\"\n",
    "\n",
    "    metrics = ['crps', 'ign', 'mis']\n",
    "\n",
    "    for metric in metrics:\n",
    "        # Find all CSV files within the nested directories\n",
    "        submission_files = glob.glob(f\"{base_path}/**/{metric}.csv\", recursive=True)\n",
    "        print(submission_files)\n",
    "\n",
    "        # Dictionary to hold the dataframes grouped by submission name and year\n",
    "        submissions = {}\n",
    "\n",
    "        # Read each CSV file and store the dataframe in the dictionary grouped by submission name and year\n",
    "        for file in submission_files:\n",
    "            df = pd.read_csv(file)\n",
    "            parts = file.split('/')\n",
    "            submission_name = parts[2].replace('_', ' ').title()  # Adjust index based on your file path structure\n",
    "            year = parts[5].split('=')[1]  # Extract year from the 'window=YYear' part\n",
    "            if submission_name not in submissions:\n",
    "                submissions[submission_name] = {}\n",
    "            submissions[submission_name][year] = df\n",
    "\n",
    "        # Create a figure for each submission\n",
    "        for submission_name, years_data in submissions.items():\n",
    "            num_years = len(years_data)\n",
    "            plt.figure(figsize=(10, 5))\n",
    "            plt.suptitle(f'{metric.upper()} Histograms for {submission_name}')\n",
    "\n",
    "            # Create subplots for each year in a 2x2 grid\n",
    "            for index, (year, df) in enumerate(sorted(years_data.items()), start=1):\n",
    "                plt.subplot(2, 2, index)\n",
    "                plt.hist(df['value'], bins=100, alpha=0.75, label=f'Year: {year}')\n",
    "                mean_value = df['value'].mean()\n",
    "                plt.axvline(mean_value, color='r', linestyle='dashed', linewidth=1)\n",
    "                plt.title(f'Year: {year[1:]}')\n",
    "                plt.xlabel(metric.upper())\n",
    "                plt.ylabel('Frequency')\n",
    "                # log\n",
    "                plt.yscale('log')\n",
    "                # plt.xscale('log')\n",
    "                # mean_value = sub['value'].mean()\n",
    "                # plt.axvline(mean_value, color='r', linestyle='dashed', linewidth=1)\n",
    "                plt.legend([f'Mean: {mean_value:.1f}'])\n",
    "\n",
    "            plt.tight_layout(rect=[0, 0.03, 1, 0.95])  # Adjust layout to not overlap with the suptitle\n",
    "            plt.show()\n"
   ],
   "id": "588af40d2a6ff668",
   "outputs": [],
   "execution_count": 13
  }
 ],
 "metadata": {
  "kernelspec": {
   "display_name": "Python 3",
   "language": "python",
   "name": "python3"
  },
  "language_info": {
   "codemirror_mode": {
    "name": "ipython",
    "version": 2
   },
   "file_extension": ".py",
   "mimetype": "text/x-python",
   "name": "python",
   "nbconvert_exporter": "python",
   "pygments_lexer": "ipython2",
   "version": "2.7.6"
  }
 },
 "nbformat": 4,
 "nbformat_minor": 5
}
