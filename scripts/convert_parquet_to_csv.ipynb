{
 "cells": [
  {
   "cell_type": "code",
   "execution_count": 1,
   "id": "initial_id",
   "metadata": {
    "collapsed": true,
    "ExecuteTime": {
     "end_time": "2024-03-20T13:41:49.691978Z",
     "start_time": "2024-03-20T13:41:49.584092Z"
    }
   },
   "outputs": [
    {
     "data": {
      "text/plain": "   month_id  country_id  gleditsch_ward  ged_sb  ged_ns  ged_os  acled_sb  \\\n0       467           1             110     0.0     0.0     0.0       0.0   \n1       467           2             115     0.0     0.0     0.0       0.0   \n2       467           3              52     0.0     0.0     0.0       0.0   \n3       467           4             101     0.0     0.0     8.0      20.0   \n4       467           5             990     0.0     0.0     0.0       0.0   \n\n   acled_sb_count  acled_os  ged_sb_tsum_24  ...  ind_efficiency_t48  \\\n0             0.0       0.0             0.0  ...           43.064647   \n1             0.0       0.0             0.0  ...           10.277652   \n2             0.0      14.0             0.0  ...           81.939324   \n3             6.0      55.0             0.0  ...          171.842331   \n4             0.0       0.0             0.0  ...            0.000000   \n\n   irr_agr_efficiency_t48  services_efficiency_t48  general_efficiency_t48  \\\n0                0.083464                24.073546                1.708305   \n1                0.927863                54.902676                7.305286   \n2                1.896849                56.824162               62.878594   \n3                0.434597                37.074382               14.740223   \n4                0.000000                 0.000000                0.000000   \n\n   water_stress_t48  renewable_internal_pcap_t48  renewable_pcap_t48  \\\n0          3.298402                315701.223506       355000.130996   \n1          3.950609                178935.173052       178935.173052   \n2         20.326481                  2818.669280         2818.669280   \n3          7.540367                 26794.955811        44103.498696   \n4          0.000000                     0.000000            0.000000   \n\n   splag_1_decay_ged_sb_5  splag_1_decay_ged_os_5  splag_1_decay_ged_ns_5  \n0                0.000129                1.029498                1.117986  \n1                0.000003                0.057337                1.000001  \n2                0.000000                0.000000                0.000000  \n3                1.000003                1.028869                1.012403  \n4                0.000000                0.000000                0.000000  \n\n[5 rows x 128 columns]",
      "text/html": "<div>\n<style scoped>\n    .dataframe tbody tr th:only-of-type {\n        vertical-align: middle;\n    }\n\n    .dataframe tbody tr th {\n        vertical-align: top;\n    }\n\n    .dataframe thead th {\n        text-align: right;\n    }\n</style>\n<table border=\"1\" class=\"dataframe\">\n  <thead>\n    <tr style=\"text-align: right;\">\n      <th></th>\n      <th>month_id</th>\n      <th>country_id</th>\n      <th>gleditsch_ward</th>\n      <th>ged_sb</th>\n      <th>ged_ns</th>\n      <th>ged_os</th>\n      <th>acled_sb</th>\n      <th>acled_sb_count</th>\n      <th>acled_os</th>\n      <th>ged_sb_tsum_24</th>\n      <th>...</th>\n      <th>ind_efficiency_t48</th>\n      <th>irr_agr_efficiency_t48</th>\n      <th>services_efficiency_t48</th>\n      <th>general_efficiency_t48</th>\n      <th>water_stress_t48</th>\n      <th>renewable_internal_pcap_t48</th>\n      <th>renewable_pcap_t48</th>\n      <th>splag_1_decay_ged_sb_5</th>\n      <th>splag_1_decay_ged_os_5</th>\n      <th>splag_1_decay_ged_ns_5</th>\n    </tr>\n  </thead>\n  <tbody>\n    <tr>\n      <th>0</th>\n      <td>467</td>\n      <td>1</td>\n      <td>110</td>\n      <td>0.0</td>\n      <td>0.0</td>\n      <td>0.0</td>\n      <td>0.0</td>\n      <td>0.0</td>\n      <td>0.0</td>\n      <td>0.0</td>\n      <td>...</td>\n      <td>43.064647</td>\n      <td>0.083464</td>\n      <td>24.073546</td>\n      <td>1.708305</td>\n      <td>3.298402</td>\n      <td>315701.223506</td>\n      <td>355000.130996</td>\n      <td>0.000129</td>\n      <td>1.029498</td>\n      <td>1.117986</td>\n    </tr>\n    <tr>\n      <th>1</th>\n      <td>467</td>\n      <td>2</td>\n      <td>115</td>\n      <td>0.0</td>\n      <td>0.0</td>\n      <td>0.0</td>\n      <td>0.0</td>\n      <td>0.0</td>\n      <td>0.0</td>\n      <td>0.0</td>\n      <td>...</td>\n      <td>10.277652</td>\n      <td>0.927863</td>\n      <td>54.902676</td>\n      <td>7.305286</td>\n      <td>3.950609</td>\n      <td>178935.173052</td>\n      <td>178935.173052</td>\n      <td>0.000003</td>\n      <td>0.057337</td>\n      <td>1.000001</td>\n    </tr>\n    <tr>\n      <th>2</th>\n      <td>467</td>\n      <td>3</td>\n      <td>52</td>\n      <td>0.0</td>\n      <td>0.0</td>\n      <td>0.0</td>\n      <td>0.0</td>\n      <td>0.0</td>\n      <td>14.0</td>\n      <td>0.0</td>\n      <td>...</td>\n      <td>81.939324</td>\n      <td>1.896849</td>\n      <td>56.824162</td>\n      <td>62.878594</td>\n      <td>20.326481</td>\n      <td>2818.669280</td>\n      <td>2818.669280</td>\n      <td>0.000000</td>\n      <td>0.000000</td>\n      <td>0.000000</td>\n    </tr>\n    <tr>\n      <th>3</th>\n      <td>467</td>\n      <td>4</td>\n      <td>101</td>\n      <td>0.0</td>\n      <td>0.0</td>\n      <td>8.0</td>\n      <td>20.0</td>\n      <td>6.0</td>\n      <td>55.0</td>\n      <td>0.0</td>\n      <td>...</td>\n      <td>171.842331</td>\n      <td>0.434597</td>\n      <td>37.074382</td>\n      <td>14.740223</td>\n      <td>7.540367</td>\n      <td>26794.955811</td>\n      <td>44103.498696</td>\n      <td>1.000003</td>\n      <td>1.028869</td>\n      <td>1.012403</td>\n    </tr>\n    <tr>\n      <th>4</th>\n      <td>467</td>\n      <td>5</td>\n      <td>990</td>\n      <td>0.0</td>\n      <td>0.0</td>\n      <td>0.0</td>\n      <td>0.0</td>\n      <td>0.0</td>\n      <td>0.0</td>\n      <td>0.0</td>\n      <td>...</td>\n      <td>0.000000</td>\n      <td>0.000000</td>\n      <td>0.000000</td>\n      <td>0.000000</td>\n      <td>0.000000</td>\n      <td>0.000000</td>\n      <td>0.000000</td>\n      <td>0.000000</td>\n      <td>0.000000</td>\n      <td>0.000000</td>\n    </tr>\n  </tbody>\n</table>\n<p>5 rows × 128 columns</p>\n</div>"
     },
     "execution_count": 1,
     "metadata": {},
     "output_type": "execute_result"
    }
   ],
   "source": [
    "import pandas as pd\n",
    "\n",
    "# read file features/cm/cm_features.parquet\n",
    "cm_features = pd.read_parquet('features/cm/cm_features.parquet')\n",
    "cm_features.head()"
   ]
  },
  {
   "cell_type": "code",
   "execution_count": 2,
   "outputs": [
    {
     "data": {
      "text/plain": "   month_id  country_id  gleditsch_ward  ged_sb  ged_ns  ged_os  acled_sb  \\\n0       467           1             110     0.0     0.0     0.0       0.0   \n1       467           2             115     0.0     0.0     0.0       0.0   \n2       467           3              52     0.0     0.0     0.0       0.0   \n3       467           4             101     0.0     0.0     8.0      20.0   \n4       467           5             990     0.0     0.0     0.0       0.0   \n\n   acled_sb_count  acled_os  ged_sb_tsum_24  ...  ind_efficiency_t48  \\\n0             0.0       0.0             0.0  ...           43.064647   \n1             0.0       0.0             0.0  ...           10.277652   \n2             0.0      14.0             0.0  ...           81.939324   \n3             6.0      55.0             0.0  ...          171.842331   \n4             0.0       0.0             0.0  ...            0.000000   \n\n   irr_agr_efficiency_t48  services_efficiency_t48  general_efficiency_t48  \\\n0                0.083464                24.073546                1.708305   \n1                0.927863                54.902676                7.305286   \n2                1.896849                56.824162               62.878594   \n3                0.434597                37.074382               14.740223   \n4                0.000000                 0.000000                0.000000   \n\n   water_stress_t48  renewable_internal_pcap_t48  renewable_pcap_t48  \\\n0          3.298402                315701.223506       355000.130996   \n1          3.950609                178935.173052       178935.173052   \n2         20.326481                  2818.669280         2818.669280   \n3          7.540367                 26794.955811        44103.498696   \n4          0.000000                     0.000000            0.000000   \n\n   splag_1_decay_ged_sb_5  splag_1_decay_ged_os_5  splag_1_decay_ged_ns_5  \n0                0.000129                1.029498                1.117986  \n1                0.000003                0.057337                1.000001  \n2                0.000000                0.000000                0.000000  \n3                1.000003                1.028869                1.012403  \n4                0.000000                0.000000                0.000000  \n\n[5 rows x 128 columns]",
      "text/html": "<div>\n<style scoped>\n    .dataframe tbody tr th:only-of-type {\n        vertical-align: middle;\n    }\n\n    .dataframe tbody tr th {\n        vertical-align: top;\n    }\n\n    .dataframe thead th {\n        text-align: right;\n    }\n</style>\n<table border=\"1\" class=\"dataframe\">\n  <thead>\n    <tr style=\"text-align: right;\">\n      <th></th>\n      <th>month_id</th>\n      <th>country_id</th>\n      <th>gleditsch_ward</th>\n      <th>ged_sb</th>\n      <th>ged_ns</th>\n      <th>ged_os</th>\n      <th>acled_sb</th>\n      <th>acled_sb_count</th>\n      <th>acled_os</th>\n      <th>ged_sb_tsum_24</th>\n      <th>...</th>\n      <th>ind_efficiency_t48</th>\n      <th>irr_agr_efficiency_t48</th>\n      <th>services_efficiency_t48</th>\n      <th>general_efficiency_t48</th>\n      <th>water_stress_t48</th>\n      <th>renewable_internal_pcap_t48</th>\n      <th>renewable_pcap_t48</th>\n      <th>splag_1_decay_ged_sb_5</th>\n      <th>splag_1_decay_ged_os_5</th>\n      <th>splag_1_decay_ged_ns_5</th>\n    </tr>\n  </thead>\n  <tbody>\n    <tr>\n      <th>0</th>\n      <td>467</td>\n      <td>1</td>\n      <td>110</td>\n      <td>0.0</td>\n      <td>0.0</td>\n      <td>0.0</td>\n      <td>0.0</td>\n      <td>0.0</td>\n      <td>0.0</td>\n      <td>0.0</td>\n      <td>...</td>\n      <td>43.064647</td>\n      <td>0.083464</td>\n      <td>24.073546</td>\n      <td>1.708305</td>\n      <td>3.298402</td>\n      <td>315701.223506</td>\n      <td>355000.130996</td>\n      <td>0.000129</td>\n      <td>1.029498</td>\n      <td>1.117986</td>\n    </tr>\n    <tr>\n      <th>1</th>\n      <td>467</td>\n      <td>2</td>\n      <td>115</td>\n      <td>0.0</td>\n      <td>0.0</td>\n      <td>0.0</td>\n      <td>0.0</td>\n      <td>0.0</td>\n      <td>0.0</td>\n      <td>0.0</td>\n      <td>...</td>\n      <td>10.277652</td>\n      <td>0.927863</td>\n      <td>54.902676</td>\n      <td>7.305286</td>\n      <td>3.950609</td>\n      <td>178935.173052</td>\n      <td>178935.173052</td>\n      <td>0.000003</td>\n      <td>0.057337</td>\n      <td>1.000001</td>\n    </tr>\n    <tr>\n      <th>2</th>\n      <td>467</td>\n      <td>3</td>\n      <td>52</td>\n      <td>0.0</td>\n      <td>0.0</td>\n      <td>0.0</td>\n      <td>0.0</td>\n      <td>0.0</td>\n      <td>14.0</td>\n      <td>0.0</td>\n      <td>...</td>\n      <td>81.939324</td>\n      <td>1.896849</td>\n      <td>56.824162</td>\n      <td>62.878594</td>\n      <td>20.326481</td>\n      <td>2818.669280</td>\n      <td>2818.669280</td>\n      <td>0.000000</td>\n      <td>0.000000</td>\n      <td>0.000000</td>\n    </tr>\n    <tr>\n      <th>3</th>\n      <td>467</td>\n      <td>4</td>\n      <td>101</td>\n      <td>0.0</td>\n      <td>0.0</td>\n      <td>8.0</td>\n      <td>20.0</td>\n      <td>6.0</td>\n      <td>55.0</td>\n      <td>0.0</td>\n      <td>...</td>\n      <td>171.842331</td>\n      <td>0.434597</td>\n      <td>37.074382</td>\n      <td>14.740223</td>\n      <td>7.540367</td>\n      <td>26794.955811</td>\n      <td>44103.498696</td>\n      <td>1.000003</td>\n      <td>1.028869</td>\n      <td>1.012403</td>\n    </tr>\n    <tr>\n      <th>4</th>\n      <td>467</td>\n      <td>5</td>\n      <td>990</td>\n      <td>0.0</td>\n      <td>0.0</td>\n      <td>0.0</td>\n      <td>0.0</td>\n      <td>0.0</td>\n      <td>0.0</td>\n      <td>0.0</td>\n      <td>...</td>\n      <td>0.000000</td>\n      <td>0.000000</td>\n      <td>0.000000</td>\n      <td>0.000000</td>\n      <td>0.000000</td>\n      <td>0.000000</td>\n      <td>0.000000</td>\n      <td>0.000000</td>\n      <td>0.000000</td>\n      <td>0.000000</td>\n    </tr>\n  </tbody>\n</table>\n<p>5 rows × 128 columns</p>\n</div>"
     },
     "execution_count": 2,
     "metadata": {},
     "output_type": "execute_result"
    }
   ],
   "source": [
    "# save to data/cm_features.csv\n",
    "cm_features.to_csv('data/cm_features.csv', index=False)\n",
    "# read \n",
    "cm_features = pd.read_csv('data/cm_features.csv')\n",
    "cm_features.head()"
   ],
   "metadata": {
    "collapsed": false,
    "ExecuteTime": {
     "end_time": "2024-03-20T13:41:53.380978Z",
     "start_time": "2024-03-20T13:41:49.694192Z"
    }
   },
   "id": "fe84703d722650a"
  },
  {
   "cell_type": "code",
   "execution_count": 2,
   "outputs": [],
   "source": [],
   "metadata": {
    "collapsed": false,
    "ExecuteTime": {
     "end_time": "2024-03-20T13:41:53.397718Z",
     "start_time": "2024-03-20T13:41:53.381394Z"
    }
   },
   "id": "4355ec1f918e2308"
  }
 ],
 "metadata": {
  "kernelspec": {
   "display_name": "Python 3",
   "language": "python",
   "name": "python3"
  },
  "language_info": {
   "codemirror_mode": {
    "name": "ipython",
    "version": 2
   },
   "file_extension": ".py",
   "mimetype": "text/x-python",
   "name": "python",
   "nbconvert_exporter": "python",
   "pygments_lexer": "ipython2",
   "version": "2.7.6"
  }
 },
 "nbformat": 4,
 "nbformat_minor": 5
}
