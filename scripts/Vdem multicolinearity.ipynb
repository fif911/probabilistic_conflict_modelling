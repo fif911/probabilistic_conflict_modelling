{
 "cells": [
  {
   "cell_type": "markdown",
   "id": "bfd8092d",
   "metadata": {},
   "source": [
    "# creating dataset without vdem columns\n"
   ]
  },
  {
   "cell_type": "code",
   "id": "52ef3c69",
   "metadata": {},
   "source": [
    "import numpy as np\n",
    "import pandas as pd\n",
    "from sklearn.decomposition import PCA\n",
    "import matplotlib.pyplot as plt\n",
    "from sklearn.preprocessing import StandardScaler, MinMaxScaler, RobustScaler, Normalizer"
   ],
   "outputs": [],
   "execution_count": null
  },
  {
   "cell_type": "code",
   "id": "ce3257b1",
   "metadata": {},
   "source": [
    "cm_features = pd.read_csv('../data/cm_features_v2.4.csv')"
   ],
   "outputs": [],
   "execution_count": null
  },
  {
   "cell_type": "code",
   "id": "4360199d",
   "metadata": {},
   "source": [
    "vdem_columns = cm_features.filter(regex='vdem')\n",
    "vdem_columns"
   ],
   "outputs": [],
   "execution_count": null
  },
  {
   "cell_type": "code",
   "id": "dccd93ef",
   "metadata": {},
   "source": [
    "cm_features_reduced = cm_features.drop(columns=vdem_columns)"
   ],
   "outputs": [],
   "execution_count": null
  },
  {
   "cell_type": "markdown",
   "id": "4e06c1a6",
   "metadata": {},
   "source": [
    "# creating dataset using PCA\n"
   ]
  },
  {
   "cell_type": "code",
   "id": "a82c5771",
   "metadata": {},
   "source": [
    "# Creating scaler\n",
    "\n",
    "scaler = MinMaxScaler()\n",
    "scaled_data = scaler.fit_transform(vdem_columns)"
   ],
   "outputs": [],
   "execution_count": null
  },
  {
   "cell_type": "code",
   "id": "a0463fb8",
   "metadata": {},
   "source": [
    "scaler = StandardScaler()\n",
    "scaled_data = scaler.fit_transform(vdem_columns)"
   ],
   "outputs": [],
   "execution_count": null
  },
  {
   "cell_type": "code",
   "id": "370fb474",
   "metadata": {},
   "source": [
    "scaler = RobustScaler()\n",
    "scaled_data = scaler.fit_transform(vdem_columns)"
   ],
   "outputs": [],
   "execution_count": null
  },
  {
   "cell_type": "code",
   "id": "e0ef5578",
   "metadata": {},
   "source": [
    "#For convenience i renamed normalizer as a scaler\n",
    "scaler = Normalizer()\n",
    "scaled_data = scaler.fit_transform(vdem_columns)"
   ],
   "outputs": [],
   "execution_count": null
  },
  {
   "cell_type": "code",
   "id": "f96fd9df",
   "metadata": {},
   "source": [
    "pca = PCA()\n",
    "pca.fit(scaled_data)\n",
    "\n",
    "# Calculating cumulative dispersion \n",
    "cumulative_explained_variance = np.cumsum(pca.explained_variance_ratio_)\n"
   ],
   "outputs": [],
   "execution_count": null
  },
  {
   "cell_type": "code",
   "id": "7cdc3a35",
   "metadata": {},
   "source": [
    "plt.plot(cumulative_explained_variance)\n",
    "plt.xlabel('Amount of components')\n",
    "plt.ylabel('Cumulative explained variance')\n",
    "plt.show()"
   ],
   "outputs": [],
   "execution_count": null
  },
  {
   "cell_type": "code",
   "id": "30aabad8",
   "metadata": {
    "scrolled": true
   },
   "source": [
    "# selection of optimal variables for variance 90\n",
    "target_variance = 0.90\n",
    "optimal_n_components = np.argmax(cumulative_explained_variance >= target_variance) + 1\n",
    "print(f'Amount of components needed for saving {target_variance * 100}% of dispersion: {optimal_n_components}')"
   ],
   "outputs": [],
   "execution_count": null
  },
  {
   "cell_type": "code",
   "id": "5163d11c",
   "metadata": {},
   "source": [
    "pca = PCA(n_components=optimal_n_components)\n",
    "vdem_pca = pca.fit_transform(scaled_data)\n",
    "\n",
    "vdem_pca_df = pd.DataFrame(vdem_pca, columns=[f'vdem_pca_{i + 1}' for i in range(optimal_n_components)])\n",
    "\n",
    "combined_data = cm_features_reduced.join(vdem_pca_df)"
   ],
   "outputs": [],
   "execution_count": null
  },
  {
   "cell_type": "code",
   "id": "95042441",
   "metadata": {},
   "source": "# combined_data.to_csv('../data/cm_features_v2.5.csv', index=False)",
   "outputs": [],
   "execution_count": null
  },
  {
   "cell_type": "markdown",
   "id": "5b69b8f3",
   "metadata": {},
   "source": [
    "# creating dataset using ICA"
   ]
  },
  {
   "cell_type": "code",
   "id": "82cd1305",
   "metadata": {},
   "source": [
    "import pandas as pd\n",
    "from sklearn.decomposition import FastICA\n",
    "from sklearn.preprocessing import StandardScaler"
   ],
   "outputs": [],
   "execution_count": null
  },
  {
   "cell_type": "code",
   "id": "3cea7694",
   "metadata": {},
   "source": [
    "# Scaler\n",
    "scaler = StandardScaler()\n",
    "vdem_columns_centered = scaler.fit_transform(vdem_columns)"
   ],
   "outputs": [],
   "execution_count": null
  },
  {
   "cell_type": "code",
   "id": "13af6f37",
   "metadata": {},
   "source": [
    "ica = FastICA(random_state=42)\n",
    "vdem_ica = ica.fit_transform(vdem_columns_centered)"
   ],
   "outputs": [],
   "execution_count": null
  },
  {
   "cell_type": "code",
   "id": "be3ed0f3",
   "metadata": {},
   "source": [
    "n_components = vdem_ica.shape[1]\n",
    "vdem_ica_df = pd.DataFrame(vdem_ica, columns=[f'vdem_ica_{i + 1}' for i in range(n_components)])\n",
    "combined_data = cm_features_reduced.join(vdem_ica_df)"
   ],
   "outputs": [],
   "execution_count": null
  },
  {
   "cell_type": "code",
   "id": "4e4170eb",
   "metadata": {},
   "source": [
    "\n",
    "# Saving data\n",
    "# combined_data.to_csv('../data/cm_features_v2.5.csv', index=False)\n",
    "# print(\"saved to ../data/cm_features_v2.5.csv\")\n",
    "# print(\"Done\")"
   ],
   "outputs": [],
   "execution_count": null
  },
  {
   "cell_type": "markdown",
   "id": "f9bf13de",
   "metadata": {},
   "source": [
    "# creating dataset using NMF"
   ]
  },
  {
   "cell_type": "code",
   "id": "107efb59",
   "metadata": {},
   "source": [
    "import pandas as pd\n",
    "from sklearn.decomposition import NMF\n",
    "from sklearn.preprocessing import MinMaxScaler"
   ],
   "outputs": [],
   "execution_count": null
  },
  {
   "cell_type": "code",
   "id": "e73a4c9c",
   "metadata": {},
   "source": [
    "scaler = MinMaxScaler()\n",
    "vdem_columns_scaled = scaler.fit_transform(vdem_columns)"
   ],
   "outputs": [],
   "execution_count": null
  },
  {
   "cell_type": "code",
   "id": "3b663581",
   "metadata": {},
   "source": [
    "n_components = 10\n",
    "nmf = NMF(n_components=n_components, random_state=42)\n",
    "vdem_nmf = nmf.fit_transform(vdem_columns_scaled)"
   ],
   "outputs": [],
   "execution_count": null
  },
  {
   "cell_type": "code",
   "id": "cb977d2b",
   "metadata": {},
   "source": [
    "vdem_nmf_df = pd.DataFrame(vdem_nmf, columns=[f'vdem_nmf_{i + 1}' for i in range(n_components)])\n",
    "combined_data = cm_features_reduced.join(vdem_nmf_df)"
   ],
   "outputs": [],
   "execution_count": null
  },
  {
   "cell_type": "code",
   "id": "1b11ca9a",
   "metadata": {},
   "source": [
    "# combined_data.to_csv('../data/cm_features_v2.5.csv', index=False)\n",
    "# print(\"saved to ../data/cm_features_v2.5.csv\")\n",
    "# print(\"Done\")"
   ],
   "outputs": [],
   "execution_count": null
  }
 ],
 "metadata": {
  "kernelspec": {
   "display_name": "Python 3 (ipykernel)",
   "language": "python",
   "name": "python3"
  },
  "language_info": {
   "codemirror_mode": {
    "name": "ipython",
    "version": 3
   },
   "file_extension": ".py",
   "mimetype": "text/x-python",
   "name": "python",
   "nbconvert_exporter": "python",
   "pygments_lexer": "ipython3",
   "version": "3.11.5"
  }
 },
 "nbformat": 4,
 "nbformat_minor": 5
}
