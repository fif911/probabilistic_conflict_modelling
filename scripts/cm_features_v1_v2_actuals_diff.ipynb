{
 "cells": [
  {
   "cell_type": "code",
   "execution_count": null,
   "id": "2b9f0b96-4249-467a-9a14-ba1d48354ca4",
   "metadata": {},
   "outputs": [],
   "source": [
    "import pandas as pd\n",
    "import matplotlib.pyplot as plt"
   ]
  },
  {
   "cell_type": "code",
   "execution_count": null,
   "id": "fbda2ea9-c25e-4dff-adfa-4e0e4c0a0f8f",
   "metadata": {},
   "outputs": [],
   "source": [
    "prediction_year: int = 2022\n",
    "\n",
    "country_list = pd.read_csv('../data/country_list.csv')\n",
    "\n",
    "def country_map(country_id: int) -> str:\n",
    "    return country_list \\\n",
    "               [country_list['country_id'] == country_id]. \\\n",
    "               name. \\\n",
    "               reset_index(drop=True) \\\n",
    "               [0]\n",
    "\n",
    "country_map(57)"
   ]
  },
  {
   "cell_type": "markdown",
   "id": "7ab4a42b-7698-4193-aab7-f638093cd54d",
   "metadata": {},
   "source": [
    "# Data"
   ]
  },
  {
   "cell_type": "code",
   "execution_count": null,
   "id": "initial_id",
   "metadata": {
    "ExecuteTime": {
     "end_time": "2024-08-04T17:43:04.152492Z",
     "start_time": "2024-08-04T17:43:04.145347Z"
    }
   },
   "outputs": [],
   "source": [
    "df_new = pd.read_parquet(f'../actuals_new/cm/window=Y{prediction_year}/cm_actuals_{prediction_year}.parquet')\n",
    "df_old = pd.read_parquet(f'../actuals_preliminary/cm/window=Y{prediction_year}/cm_actuals_{prediction_year}.parquet')\n",
    "\n",
    "# reset index\n",
    "df_new.reset_index(drop=False, inplace=True)\n",
    "df_old.reset_index(drop=False, inplace=True)\n",
    "# df1 = df1[['month_id', 'country_id', 'outcome']]\n",
    "# df2 = df2[['month_id', 'country_id', 'ged_sb']]\n",
    "# df1\n",
    "# df2\n",
    "df_new.rename(columns={'outcome': 'ged_sb'}, inplace=True)"
   ]
  },
  {
   "cell_type": "code",
   "execution_count": null,
   "id": "298d7588317de0f1",
   "metadata": {
    "ExecuteTime": {
     "end_time": "2024-08-04T17:43:04.158590Z",
     "start_time": "2024-08-04T17:43:04.153590Z"
    }
   },
   "outputs": [],
   "source": [
    "df_new.head()"
   ]
  },
  {
   "cell_type": "code",
   "execution_count": null,
   "id": "57877ba96e9bb307",
   "metadata": {
    "ExecuteTime": {
     "end_time": "2024-08-04T17:43:04.168769Z",
     "start_time": "2024-08-04T17:43:04.159496Z"
    }
   },
   "outputs": [],
   "source": [
    "# Merge DataFrames on 'month_id' and 'country_id' with outer join to handle missing rows\n",
    "merged_df = pd.merge(df_new, df_old, on=['month_id', 'country_id'], how='outer', suffixes=('_new', '_old'))\n",
    "\n",
    "# Identify rows where 'ged_sb' values differ or are missing in one DataFrame\n",
    "differences_df = merged_df[merged_df['ged_sb_new'] != merged_df['ged_sb_old']]\n",
    "\n",
    "# calculate the difference between the two values\n",
    "differences_df['ged_sb_diff'] = differences_df['ged_sb_new'] - differences_df['ged_sb_old']\n",
    "\n",
    "# absolute differense\n",
    "differences_df['ged_sb_diff_abs'] = abs(differences_df['ged_sb_diff'])\n",
    "\n",
    "# drop 'index'\n",
    "differences_df.drop(columns=['index'], inplace=True)\n",
    "\n",
    "# print sum of differences\n",
    "print(\"Absolute sum of differences: \", abs(differences_df['ged_sb_diff']).sum())\n",
    "\n",
    "# Display the result\n",
    "differences_df.head()"
   ]
  },
  {
   "cell_type": "markdown",
   "id": "108b5757-94f5-4c7f-aa27-de48ab6a5b98",
   "metadata": {},
   "source": [
    "# Differences"
   ]
  },
  {
   "cell_type": "code",
   "execution_count": null,
   "id": "db3f6e0d5478ec0a",
   "metadata": {
    "ExecuteTime": {
     "end_time": "2024-08-04T17:43:04.175971Z",
     "start_time": "2024-08-04T17:43:04.170006Z"
    }
   },
   "outputs": [],
   "source": [
    "# amount of country_ids in df_new vs df_old\n",
    "print(len(df_new['country_id'].unique()))\n",
    "print(len(df_old['country_id'].unique()))\n",
    "\n",
    "# print difference in country_ids\n",
    "print(set(df_new['country_id'].unique()) - set(df_old['country_id'].unique()))\n",
    "\n",
    "# check if amount of months available per each country_id is the same\n",
    "df_new_months_per_country = df_new.groupby('country_id').count()\n",
    "df_old_months_per_country = df_old.groupby('country_id').count()\n",
    "\n",
    "df_new_months_per_country = df_new_months_per_country.reset_index()\n",
    "df_old_months_per_country = df_old_months_per_country.reset_index()\n",
    "# assert all true\n",
    "print(\"All the same countries and months are present:\")\n",
    "print(\n",
    "    (\n",
    "        df_new_months_per_country[[\"country_id\", \"month_id\"]] == df_old_months_per_country[[\"country_id\", \"month_id\"]]\n",
    "    ).all().all()\n",
    ")"
   ]
  },
  {
   "cell_type": "code",
   "execution_count": null,
   "id": "fb14e324eda497dd",
   "metadata": {
    "ExecuteTime": {
     "end_time": "2024-08-04T17:43:04.177903Z",
     "start_time": "2024-08-04T17:43:04.176715Z"
    }
   },
   "outputs": [],
   "source": [
    "# Huge difference\n",
    "diff5 = differences_df[differences_df['ged_sb_diff_abs'] >= 500]['country_id'].unique()\n",
    "print(f'ids: {diff5}')\n",
    "print(f'names: {[country_map(country_id) for country_id in diff5]}')"
   ]
  },
  {
   "cell_type": "code",
   "execution_count": null,
   "id": "2885d049-13db-41ce-a97a-73a240c77751",
   "metadata": {},
   "outputs": [],
   "source": [
    "# Big difference\n",
    "diff4 = differences_df[(differences_df['ged_sb_diff_abs'] >= 100) & (differences_df['ged_sb_diff_abs'] < 500)]['country_id'].unique()\n",
    "diff4 = list(set(diff4) - set(diff5))\n",
    "print(f'ids: {diff4}')\n",
    "print(f'names: {[country_map(country_id) for country_id in diff4]}')"
   ]
  },
  {
   "cell_type": "code",
   "execution_count": null,
   "id": "fe753c3b-64d3-4451-9660-31c854ae9068",
   "metadata": {},
   "outputs": [],
   "source": [
    "# Mediocre difference\n",
    "diff3 = differences_df[(differences_df['ged_sb_diff_abs'] >= 50) & (differences_df['ged_sb_diff_abs'] < 100)]['country_id'].unique()\n",
    "diff3 = list(set(diff3) - set(diff4) - set(diff5))\n",
    "print(f'ids: {diff3}')\n",
    "print(f'names: {[country_map(country_id) for country_id in diff3]}')"
   ]
  },
  {
   "cell_type": "code",
   "execution_count": null,
   "id": "c0e43293-a184-4adc-92e5-6472b91614fb",
   "metadata": {},
   "outputs": [],
   "source": [
    "# Small difference\n",
    "diff2 = differences_df[(differences_df['ged_sb_diff_abs'] >= 10) & (differences_df['ged_sb_diff_abs'] < 50)]['country_id'].unique()\n",
    "diff2 = list(set(diff2) - set(diff3) - set(diff4) - set(diff5))\n",
    "print(f'ids: {diff2}')\n",
    "print(f'names: {[country_map(country_id) for country_id in diff2]}')"
   ]
  },
  {
   "cell_type": "code",
   "execution_count": null,
   "id": "1fd46f0e-c634-42f3-a76c-5cfc2d91dd97",
   "metadata": {},
   "outputs": [],
   "source": [
    "# Tiny difference\n",
    "diff1 = differences_df[differences_df['ged_sb_diff_abs'] < 10]['country_id'].unique()\n",
    "diff1 = list(set(diff1) - set(diff2) - set(diff3) - set(diff4) - set(diff5))\n",
    "print(f'ids: {diff1}')\n",
    "print(f'names: {[country_map(country_id) for country_id in diff1]}')"
   ]
  },
  {
   "cell_type": "markdown",
   "id": "dcd9d696-fd80-4947-b71c-537bd644f26a",
   "metadata": {},
   "source": [
    "# Plots"
   ]
  },
  {
   "cell_type": "code",
   "execution_count": null,
   "id": "15a4f859-af21-455c-a464-f6123c323559",
   "metadata": {},
   "outputs": [],
   "source": [
    "country_id: int = 162\n",
    "\n",
    "x_new = df_new[df_new['country_id'] == country_id].month_id\n",
    "y_new = df_new[df_new['country_id'] == country_id].ged_sb\n",
    "x_old = df_old[df_old['country_id'] == country_id].month_id\n",
    "y_old = df_old[df_old['country_id'] == country_id].ged_sb\n",
    "\n",
    "plt.plot(x_new, y_new, label='new')\n",
    "plt.plot(x_old, y_old, label='old')\n",
    "\n",
    "plt.title(f'ID: {country_id}, Name: {country_map(country_id)}')\n",
    "plt.xlabel('month')\n",
    "plt.ylabel('fatalities')\n",
    "\n",
    "plt.legend()\n",
    "\n",
    "plt.tight_layout()\n",
    "plt.plot()"
   ]
  }
 ],
 "metadata": {
  "kernelspec": {
   "display_name": "Python 3 (ipykernel)",
   "language": "python",
   "name": "python3"
  },
  "language_info": {
   "codemirror_mode": {
    "name": "ipython",
    "version": 3
   },
   "file_extension": ".py",
   "mimetype": "text/x-python",
   "name": "python",
   "nbconvert_exporter": "python",
   "pygments_lexer": "ipython3",
   "version": "3.10.14"
  }
 },
 "nbformat": 4,
 "nbformat_minor": 5
}
