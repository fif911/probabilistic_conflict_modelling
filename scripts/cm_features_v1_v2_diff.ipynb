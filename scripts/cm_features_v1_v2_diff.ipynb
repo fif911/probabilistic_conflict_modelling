{
 "cells": [
  {
   "cell_type": "code",
   "id": "initial_id",
   "metadata": {
    "collapsed": true,
    "ExecuteTime": {
     "end_time": "2024-08-04T12:59:40.520575Z",
     "start_time": "2024-08-04T12:59:39.594087Z"
    }
   },
   "source": [
    "import pandas as pd\n",
    "\n",
    "df1 = pd.read_csv('../data/cm_features_v1.0_Y2018.csv')\n",
    "df2 = pd.read_csv('../data/cm_features_v2.4_Y2018.csv')\n",
    "df1 = df1[['month_id', 'country_id', 'gw_statename', 'ged_sb']]\n",
    "df2 = df2[['month_id', 'country_id', 'ged_sb']]"
   ],
   "outputs": [],
   "execution_count": 17
  },
  {
   "metadata": {
    "ExecuteTime": {
     "end_time": "2024-08-04T12:59:40.533582Z",
     "start_time": "2024-08-04T12:59:40.522386Z"
    }
   },
   "cell_type": "code",
   "source": [
    "# Merge DataFrames on 'month_id' and 'country_id' with outer join to handle missing rows\n",
    "merged_df = pd.merge(df1, df2, on=['month_id', 'country_id'], how='outer', suffixes=('_df1', '_df2'))\n",
    "\n",
    "# Identify rows where 'ged_sb' values differ or are missing in one DataFrame\n",
    "differences_df = merged_df[merged_df['ged_sb_df1'] != merged_df['ged_sb_df2']]\n",
    "\n",
    "# Display the result\n",
    "differences_df"
   ],
   "id": "57877ba96e9bb307",
   "outputs": [
    {
     "data": {
      "text/plain": [
       "       month_id  country_id                    gw_statename  ged_sb_df1  \\\n",
       "372         123         145                     Philippines       132.0   \n",
       "696         125         223                           India        93.0   \n",
       "939         127         145                     Philippines        24.0   \n",
       "1809        133         162                      Mozambique         0.0   \n",
       "2524        138         162                      Mozambique      1000.0   \n",
       "...         ...         ...                             ...         ...   \n",
       "54011       450         124  Yemen (Arab Republic of Yemen)        91.0   \n",
       "54135       451          70        Central African Republic         4.0   \n",
       "54180       451         124  Yemen (Arab Republic of Yemen)       112.0   \n",
       "54687       454         124  Yemen (Arab Republic of Yemen)       175.0   \n",
       "54699       454         136                        Pakistan        50.0   \n",
       "\n",
       "       ged_sb_df2  \n",
       "372         136.0  \n",
       "696         160.0  \n",
       "939          30.0  \n",
       "1809         39.0  \n",
       "2524        961.0  \n",
       "...           ...  \n",
       "54011       129.0  \n",
       "54135        21.0  \n",
       "54180       118.0  \n",
       "54687       162.0  \n",
       "54699        56.0  \n",
       "\n",
       "[403 rows x 5 columns]"
      ],
      "text/html": [
       "<div>\n",
       "<style scoped>\n",
       "    .dataframe tbody tr th:only-of-type {\n",
       "        vertical-align: middle;\n",
       "    }\n",
       "\n",
       "    .dataframe tbody tr th {\n",
       "        vertical-align: top;\n",
       "    }\n",
       "\n",
       "    .dataframe thead th {\n",
       "        text-align: right;\n",
       "    }\n",
       "</style>\n",
       "<table border=\"1\" class=\"dataframe\">\n",
       "  <thead>\n",
       "    <tr style=\"text-align: right;\">\n",
       "      <th></th>\n",
       "      <th>month_id</th>\n",
       "      <th>country_id</th>\n",
       "      <th>gw_statename</th>\n",
       "      <th>ged_sb_df1</th>\n",
       "      <th>ged_sb_df2</th>\n",
       "    </tr>\n",
       "  </thead>\n",
       "  <tbody>\n",
       "    <tr>\n",
       "      <th>372</th>\n",
       "      <td>123</td>\n",
       "      <td>145</td>\n",
       "      <td>Philippines</td>\n",
       "      <td>132.0</td>\n",
       "      <td>136.0</td>\n",
       "    </tr>\n",
       "    <tr>\n",
       "      <th>696</th>\n",
       "      <td>125</td>\n",
       "      <td>223</td>\n",
       "      <td>India</td>\n",
       "      <td>93.0</td>\n",
       "      <td>160.0</td>\n",
       "    </tr>\n",
       "    <tr>\n",
       "      <th>939</th>\n",
       "      <td>127</td>\n",
       "      <td>145</td>\n",
       "      <td>Philippines</td>\n",
       "      <td>24.0</td>\n",
       "      <td>30.0</td>\n",
       "    </tr>\n",
       "    <tr>\n",
       "      <th>1809</th>\n",
       "      <td>133</td>\n",
       "      <td>162</td>\n",
       "      <td>Mozambique</td>\n",
       "      <td>0.0</td>\n",
       "      <td>39.0</td>\n",
       "    </tr>\n",
       "    <tr>\n",
       "      <th>2524</th>\n",
       "      <td>138</td>\n",
       "      <td>162</td>\n",
       "      <td>Mozambique</td>\n",
       "      <td>1000.0</td>\n",
       "      <td>961.0</td>\n",
       "    </tr>\n",
       "    <tr>\n",
       "      <th>...</th>\n",
       "      <td>...</td>\n",
       "      <td>...</td>\n",
       "      <td>...</td>\n",
       "      <td>...</td>\n",
       "      <td>...</td>\n",
       "    </tr>\n",
       "    <tr>\n",
       "      <th>54011</th>\n",
       "      <td>450</td>\n",
       "      <td>124</td>\n",
       "      <td>Yemen (Arab Republic of Yemen)</td>\n",
       "      <td>91.0</td>\n",
       "      <td>129.0</td>\n",
       "    </tr>\n",
       "    <tr>\n",
       "      <th>54135</th>\n",
       "      <td>451</td>\n",
       "      <td>70</td>\n",
       "      <td>Central African Republic</td>\n",
       "      <td>4.0</td>\n",
       "      <td>21.0</td>\n",
       "    </tr>\n",
       "    <tr>\n",
       "      <th>54180</th>\n",
       "      <td>451</td>\n",
       "      <td>124</td>\n",
       "      <td>Yemen (Arab Republic of Yemen)</td>\n",
       "      <td>112.0</td>\n",
       "      <td>118.0</td>\n",
       "    </tr>\n",
       "    <tr>\n",
       "      <th>54687</th>\n",
       "      <td>454</td>\n",
       "      <td>124</td>\n",
       "      <td>Yemen (Arab Republic of Yemen)</td>\n",
       "      <td>175.0</td>\n",
       "      <td>162.0</td>\n",
       "    </tr>\n",
       "    <tr>\n",
       "      <th>54699</th>\n",
       "      <td>454</td>\n",
       "      <td>136</td>\n",
       "      <td>Pakistan</td>\n",
       "      <td>50.0</td>\n",
       "      <td>56.0</td>\n",
       "    </tr>\n",
       "  </tbody>\n",
       "</table>\n",
       "<p>403 rows × 5 columns</p>\n",
       "</div>"
      ]
     },
     "execution_count": 18,
     "metadata": {},
     "output_type": "execute_result"
    }
   ],
   "execution_count": 18
  },
  {
   "metadata": {
    "ExecuteTime": {
     "end_time": "2024-08-04T12:59:40.539106Z",
     "start_time": "2024-08-04T12:59:40.534329Z"
    }
   },
   "cell_type": "code",
   "source": [
    "# amount of country_ids in df1 vs df2\n",
    "print(len(df1['country_id'].unique()))\n",
    "print(len(df2['country_id'].unique()))\n",
    "\n",
    "# print difference in country_ids\n",
    "print(set(df1['country_id'].unique()) - set(df2['country_id'].unique()))"
   ],
   "id": "db3f6e0d5478ec0a",
   "outputs": [
    {
     "name": "stdout",
     "output_type": "stream",
     "text": [
      "177\n",
      "177\n",
      "set()\n"
     ]
    }
   ],
   "execution_count": 19
  },
  {
   "metadata": {
    "ExecuteTime": {
     "end_time": "2024-08-04T12:59:40.541470Z",
     "start_time": "2024-08-04T12:59:40.539973Z"
    }
   },
   "cell_type": "code",
   "source": "",
   "id": "fb14e324eda497dd",
   "outputs": [],
   "execution_count": 19
  }
 ],
 "metadata": {
  "kernelspec": {
   "display_name": "Python 3",
   "language": "python",
   "name": "python3"
  },
  "language_info": {
   "codemirror_mode": {
    "name": "ipython",
    "version": 2
   },
   "file_extension": ".py",
   "mimetype": "text/x-python",
   "name": "python",
   "nbconvert_exporter": "python",
   "pygments_lexer": "ipython2",
   "version": "2.7.6"
  }
 },
 "nbformat": 4,
 "nbformat_minor": 5
}
