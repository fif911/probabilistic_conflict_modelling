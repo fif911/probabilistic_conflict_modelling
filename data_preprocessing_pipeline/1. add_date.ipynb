{
 "cells": [
  {
   "cell_type": "code",
   "id": "initial_id",
   "metadata": {
    "collapsed": true,
    "ExecuteTime": {
     "end_time": "2024-07-28T11:59:44.646684Z",
     "start_time": "2024-07-28T11:59:44.643076Z"
    }
   },
   "source": "import pandas as pd",
   "outputs": [],
   "execution_count": 5
  },
  {
   "metadata": {
    "ExecuteTime": {
     "end_time": "2024-07-28T11:59:44.679695Z",
     "start_time": "2024-07-28T11:59:44.653389Z"
    }
   },
   "cell_type": "code",
   "source": "cm_features = pd.read_parquet('../data/cm_features_v2.0.parquet')",
   "id": "b7c4784415a157fb",
   "outputs": [],
   "execution_count": 6
  },
  {
   "metadata": {
    "ExecuteTime": {
     "end_time": "2024-07-28T11:59:44.705348Z",
     "start_time": "2024-07-28T11:59:44.680972Z"
    }
   },
   "cell_type": "code",
   "source": [
    "cm_features['date'] = pd.to_datetime(\n",
    "    cm_features['month_id'].apply(lambda x: f\"{1980 + (x - 1) // 12}-{((x - 1) % 12) + 1}-01\"))"
   ],
   "id": "b5d4b39d10f1156d",
   "outputs": [],
   "execution_count": 7
  },
  {
   "metadata": {
    "ExecuteTime": {
     "end_time": "2024-07-28T11:59:48.096354Z",
     "start_time": "2024-07-28T11:59:44.706026Z"
    }
   },
   "cell_type": "code",
   "source": "cm_features.to_csv('../data/cm_features_v2.1.csv', index=False)",
   "id": "5157853603711d0e",
   "outputs": [],
   "execution_count": 8
  },
  {
   "metadata": {
    "ExecuteTime": {
     "end_time": "2024-07-28T12:00:34.209373Z",
     "start_time": "2024-07-28T12:00:34.203598Z"
    }
   },
   "cell_type": "code",
   "source": [
    "# print max date\n",
    "print(cm_features['date'].max())\n",
    "# print amount of countries with max date\n",
    "print(cm_features[cm_features['date'] == cm_features['date'].max()]['country_id'].nunique())"
   ],
   "id": "3d558b083f1e98dc",
   "outputs": [
    {
     "name": "stdout",
     "output_type": "stream",
     "text": [
      "2024-04-01 00:00:00\n",
      "191\n"
     ]
    }
   ],
   "execution_count": 10
  }
 ],
 "metadata": {
  "kernelspec": {
   "display_name": "Python 3",
   "language": "python",
   "name": "python3"
  },
  "language_info": {
   "codemirror_mode": {
    "name": "ipython",
    "version": 2
   },
   "file_extension": ".py",
   "mimetype": "text/x-python",
   "name": "python",
   "nbconvert_exporter": "python",
   "pygments_lexer": "ipython2",
   "version": "2.7.6"
  }
 },
 "nbformat": 4,
 "nbformat_minor": 5
}
